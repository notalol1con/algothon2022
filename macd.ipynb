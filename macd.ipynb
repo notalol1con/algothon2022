{
 "cells": [
  {
   "cell_type": "code",
   "execution_count": null,
   "metadata": {},
   "outputs": [],
   "source": [
    "import numpy as np\n",
    "import pandas as pd\n",
    "from Freezer import getMyPosition as getPosition\n",
    "import seaborn as sns\n",
    "import matplotlib.pyplot as plt\n",
    "\n",
    "nInst = 0\n",
    "nt = 0\n",
    "\n",
    "# Commission rate\n",
    "commRate = 0.0025 # was 0.0050\n",
    "\n",
    "# Dollar position limit (maximum absolute dollar value of any individual stock position)\n",
    "dlrPosLimit = 10000\n",
    "\n",
    "timeOut=600 \n",
    "\n",
    "pricesFile=\"./prc500.txt\"\n",
    "prcAll = df=pd.read_csv(pricesFile, sep='\\s+', header=None, index_col=None)"
   ]
  },
  {
   "cell_type": "code",
   "execution_count": null,
   "metadata": {},
   "outputs": [],
   "source": []
  }
 ],
 "metadata": {
  "kernelspec": {
   "display_name": "Python 3.9.12 ('base')",
   "language": "python",
   "name": "python3"
  },
  "language_info": {
   "name": "python",
   "version": "3.9.12"
  },
  "orig_nbformat": 4,
  "vscode": {
   "interpreter": {
    "hash": "8744d5e5ae32700900700cdebb52aa9ffb087a0432d43e6b57affb278cf095b0"
   }
  }
 },
 "nbformat": 4,
 "nbformat_minor": 2
}
