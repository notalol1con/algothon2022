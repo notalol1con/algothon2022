{
 "cells": [
  {
   "cell_type": "code",
   "execution_count": 3,
   "metadata": {},
   "outputs": [
    {
     "data": {
      "text/plain": [
       "array([[40.44, 40.58, 40.52, ..., 43.66, 43.61, 43.52],\n",
       "       [ 4.9 ,  4.88,  4.9 , ...,  4.14,  4.14,  4.12],\n",
       "       [30.92, 30.95, 31.02, ..., 28.59, 28.64, 28.68],\n",
       "       ...,\n",
       "       [11.12, 11.15, 11.16, ...,  9.82,  9.81,  9.79],\n",
       "       [33.32, 33.35, 33.31, ..., 33.86, 34.06, 34.17],\n",
       "       [41.1 , 41.35, 41.82, ..., 38.07, 39.07, 38.84]])"
      ]
     },
     "execution_count": 3,
     "metadata": {},
     "output_type": "execute_result"
    }
   ],
   "source": [
    "import numpy as np\n",
    "import pandas as pd\n",
    "from teamName import getMyPosition as getPosition\n",
    "from eval import loadPrices\n",
    "\n",
    "nInst = 0\n",
    "nt = 0\n",
    "\n",
    "# Commission rate\n",
    "commRate = 0.0025 # was 0.0050\n",
    "\n",
    "# Dollar position limit (maximum absolute dollar value of any individual stock position)\n",
    "dlrPosLimit = 10000\n",
    "\n",
    "timeOut=600 \n",
    "\n",
    "pricesFile=\"./prices.txt\"\n",
    "prcAll = loadPrices(pricesFile)\n",
    "prcAll"
   ]
  }
 ],
 "metadata": {
  "interpreter": {
   "hash": "097ff149f4f1647f8cfefcf116c7b1f0ab6b5406ef392ab0b19075a3fb2e7c97"
  },
  "kernelspec": {
   "display_name": "Python 3.9.12 ('base')",
   "language": "python",
   "name": "python3"
  },
  "language_info": {
   "codemirror_mode": {
    "name": "ipython",
    "version": 3
   },
   "file_extension": ".py",
   "mimetype": "text/x-python",
   "name": "python",
   "nbconvert_exporter": "python",
   "pygments_lexer": "ipython3",
   "version": "3.9.12"
  },
  "orig_nbformat": 4
 },
 "nbformat": 4,
 "nbformat_minor": 2
}
