{
 "cells": [
  {
   "cell_type": "code",
   "execution_count": null,
   "metadata": {},
   "outputs": [
    {
     "ename": "",
     "evalue": "",
     "output_type": "error",
     "traceback": [
      "\u001b[1;31mRunning cells with 'Python 3.10.2 64-bit' requires ipykernel package.\n",
      "Run the following command to install 'ipykernel' into the Python environment. \n",
      "Command: 'c:/Users/WIN10/AppData/Local/Programs/Python/Python310/python.exe -m pip install ipykernel -U --user --force-reinstall'"
     ]
    }
   ],
   "source": [
    "import numpy as np\n",
    "import pandas as pd\n",
    "from teamName import getMyPosition as getPosition\n",
    "from eval import loadPrices\n",
    "import matplotlib.pyplot as plt\n",
    "\n",
    "nInst = 0\n",
    "nt = 0\n",
    "\n",
    "# Commission rate\n",
    "commRate = 0.0025 # was 0.0050\n",
    "\n",
    "# Dollar position limit (maximum absolute dollar value of any individual stock position)\n",
    "dlrPosLimit = 10000\n",
    "\n",
    "timeOut=600 \n",
    "\n",
    "pricesFile=\"./prices.txt\"\n",
    "prcAll = loadPrices(pricesFile)\n",
    "prcAll = pd.DataFrame(data=prcAll[0:,0:], index=[i for i in range(prcAll.shape[0])], columns=[i for i in range(prcAll.shape[1])])\n",
    "y_s = [i for i in range(1,250)]\n",
    "for x in range(2):\n",
    "    x_s = prcAll[x,0:]\n",
    "    plt.plot(x_s, y_s)"
   ]
  }
 ],
 "metadata": {
  "kernelspec": {
   "display_name": "Python 3.10.2 64-bit",
   "language": "python",
   "name": "python3"
  },
  "language_info": {
   "codemirror_mode": {
    "name": "ipython",
    "version": 3
   },
   "file_extension": ".py",
   "mimetype": "text/x-python",
   "name": "python",
   "nbconvert_exporter": "python",
   "pygments_lexer": "ipython3",
   "version": "3.10.2"
  },
  "orig_nbformat": 4,
  "vscode": {
   "interpreter": {
    "hash": "a568c93b4c30704bcfc6354a8f9f0b414cb29a99ddf437e4b5853f43be4fcd25"
   }
  }
 },
 "nbformat": 4,
 "nbformat_minor": 2
}
