{
 "cells": [
  {
   "cell_type": "code",
   "execution_count": 3,
   "metadata": {},
   "outputs": [
    {
     "name": "stdout",
     "output_type": "stream",
     "text": [
      "Loaded 100 instruments for 250 days\n"
     ]
    },
    {
     "name": "stderr",
     "output_type": "stream",
     "text": [
      "c:\\ProgramData\\Anaconda3\\lib\\site-packages\\numpy\\core\\_methods.py:262: RuntimeWarning: Degrees of freedom <= 0 for slice\n",
      "  ret = _var(a, axis=axis, dtype=dtype, out=out, ddof=ddof,\n",
      "c:\\ProgramData\\Anaconda3\\lib\\site-packages\\numpy\\core\\_methods.py:222: RuntimeWarning: invalid value encountered in true_divide\n",
      "  arrmean = um.true_divide(arrmean, div, out=arrmean, casting='unsafe',\n",
      "c:\\ProgramData\\Anaconda3\\lib\\site-packages\\numpy\\core\\_methods.py:254: RuntimeWarning: invalid value encountered in double_scalars\n",
      "  ret = ret.dtype.type(ret / rcount)\n"
     ]
    },
    {
     "ename": "TypeError",
     "evalue": "slice indices must be integers or None or have an __index__ method",
     "output_type": "error",
     "traceback": [
      "\u001b[1;31m---------------------------------------------------------------------------\u001b[0m",
      "\u001b[1;31mTypeError\u001b[0m                                 Traceback (most recent call last)",
      "\u001b[1;32mc:\\Users\\PC\\Desktop\\Uni Work\\Whatever\\Algothon\\algothon2022\\test.ipynb Cell 1\u001b[0m in \u001b[0;36m<cell line: 4>\u001b[1;34m()\u001b[0m\n\u001b[0;32m      <a href='vscode-notebook-cell:/c%3A/Users/PC/Desktop/Uni%20Work/Whatever/Algothon/algothon2022/test.ipynb#ch0000000?line=1'>2</a>\u001b[0m \u001b[39mimport\u001b[39;00m \u001b[39mpandas\u001b[39;00m \u001b[39mas\u001b[39;00m \u001b[39mpd\u001b[39;00m\n\u001b[0;32m      <a href='vscode-notebook-cell:/c%3A/Users/PC/Desktop/Uni%20Work/Whatever/Algothon/algothon2022/test.ipynb#ch0000000?line=2'>3</a>\u001b[0m \u001b[39mfrom\u001b[39;00m \u001b[39mteamName\u001b[39;00m \u001b[39mimport\u001b[39;00m getMyPosition \u001b[39mas\u001b[39;00m getPosition\n\u001b[1;32m----> <a href='vscode-notebook-cell:/c%3A/Users/PC/Desktop/Uni%20Work/Whatever/Algothon/algothon2022/test.ipynb#ch0000000?line=3'>4</a>\u001b[0m \u001b[39mfrom\u001b[39;00m \u001b[39meval\u001b[39;00m \u001b[39mimport\u001b[39;00m loadPrices\n\u001b[0;32m      <a href='vscode-notebook-cell:/c%3A/Users/PC/Desktop/Uni%20Work/Whatever/Algothon/algothon2022/test.ipynb#ch0000000?line=4'>5</a>\u001b[0m \u001b[39mimport\u001b[39;00m \u001b[39mmatplotlib\u001b[39;00m\u001b[39m.\u001b[39;00m\u001b[39mpyplot\u001b[39;00m \u001b[39mas\u001b[39;00m \u001b[39mplt\u001b[39;00m\n\u001b[0;32m      <a href='vscode-notebook-cell:/c%3A/Users/PC/Desktop/Uni%20Work/Whatever/Algothon/algothon2022/test.ipynb#ch0000000?line=6'>7</a>\u001b[0m nInst \u001b[39m=\u001b[39m \u001b[39m0\u001b[39m\n",
      "File \u001b[1;32mc:\\Users\\PC\\Desktop\\Uni Work\\Whatever\\Algothon\\algothon2022\\eval.py:80\u001b[0m, in \u001b[0;36m<module>\u001b[1;34m\u001b[0m\n\u001b[0;32m     75\u001b[0m     \u001b[39mreturn\u001b[39;00m (plmu, ret, annSharpe, totDVolume)\n\u001b[0;32m     79\u001b[0m tStart \u001b[39m=\u001b[39m time\u001b[39m.\u001b[39mtime()\n\u001b[1;32m---> 80\u001b[0m (meanpl, ret, sharpe, dvol) \u001b[39m=\u001b[39m calcPL(prcAll)\n\u001b[0;32m     81\u001b[0m tEnd \u001b[39m=\u001b[39m time\u001b[39m.\u001b[39mtime()\n\u001b[0;32m     82\u001b[0m tRun \u001b[39m=\u001b[39m tEnd \u001b[39m-\u001b[39m tStart\n",
      "File \u001b[1;32mc:\\Users\\PC\\Desktop\\Uni Work\\Whatever\\Algothon\\algothon2022\\eval.py:48\u001b[0m, in \u001b[0;36mcalcPL\u001b[1;34m(prcHist)\u001b[0m\n\u001b[0;32m     46\u001b[0m \u001b[39m#print (\"tRunning: %.4lf\" % tRunning)\u001b[39;00m\n\u001b[0;32m     47\u001b[0m \u001b[39mif\u001b[39;00m (t \u001b[39m<\u001b[39m nt) \u001b[39mand\u001b[39;00m (tRunning \u001b[39m<\u001b[39m\u001b[39m=\u001b[39m timeOut):\n\u001b[1;32m---> 48\u001b[0m     newPosOrig \u001b[39m=\u001b[39m getPosition(prcHistSoFar)\n\u001b[0;32m     49\u001b[0m     \u001b[39m# otherwise keep the same desired positions\u001b[39;00m\n\u001b[0;32m     50\u001b[0m \u001b[39mif\u001b[39;00m (tRunning \u001b[39m>\u001b[39m timeOut):\n",
      "File \u001b[1;32mc:\\Users\\PC\\Desktop\\Uni Work\\Whatever\\Algothon\\algothon2022\\teamName.py:29\u001b[0m, in \u001b[0;36mgetMyPosition\u001b[1;34m(prcSoFar)\u001b[0m\n\u001b[0;32m     26\u001b[0m \u001b[39melif\u001b[39;00m lb \u001b[39m<\u001b[39m lb_floor:\n\u001b[0;32m     27\u001b[0m     lb \u001b[39m=\u001b[39m lb_floor\n\u001b[1;32m---> 29\u001b[0m q75, q25 \u001b[39m=\u001b[39m np\u001b[39m.\u001b[39mpercentile(close[\u001b[39m-\u001b[39;49mlb:\u001b[39m-\u001b[39;49m\u001b[39m1\u001b[39;49m], [\u001b[39m75\u001b[39m ,\u001b[39m25\u001b[39m])\n\u001b[0;32m     30\u001b[0m iqr \u001b[39m=\u001b[39m q75 \u001b[39m-\u001b[39m q25\n\u001b[0;32m     32\u001b[0m no_outlier \u001b[39m=\u001b[39m []\n",
      "\u001b[1;31mTypeError\u001b[0m: slice indices must be integers or None or have an __index__ method"
     ]
    }
   ],
   "source": [
    "import numpy as np\n",
    "import pandas as pd\n",
    "from teamName import getMyPosition as getPosition\n",
    "from eval import loadPrices\n",
    "import matplotlib.pyplot as plt\n",
    "\n",
    "nInst = 0\n",
    "nt = 0\n",
    "\n",
    "# Commission rate\n",
    "commRate = 0.0025 # was 0.0050\n",
    "\n",
    "# Dollar position limit (maximum absolute dollar value of any individual stock position)\n",
    "dlrPosLimit = 10000\n",
    "\n",
    "timeOut=600 \n",
    "\n",
    "pricesFile=\"./prices.txt\"\n",
    "prcAll = loadPrices(pricesFile)\n",
    "prcAll = pd.DataFrame(data=prcAll[0:,0:], index=[i for i in range(prcAll.shape[0])], columns=[i for i in range(prcAll.shape[1])])\n",
    "prcAll\n"
   ]
  }
 ],
 "metadata": {
  "kernelspec": {
   "display_name": "Python 3.9.12 ('base')",
   "language": "python",
   "name": "python3"
  },
  "language_info": {
   "codemirror_mode": {
    "name": "ipython",
    "version": 3
   },
   "file_extension": ".py",
   "mimetype": "text/x-python",
   "name": "python",
   "nbconvert_exporter": "python",
   "pygments_lexer": "ipython3",
   "version": "3.9.12"
  },
  "orig_nbformat": 4,
  "vscode": {
   "interpreter": {
    "hash": "ad2bdc8ecc057115af97d19610ffacc2b4e99fae6737bb82f5d7fb13d2f2c186"
   }
  }
 },
 "nbformat": 4,
 "nbformat_minor": 2
}
